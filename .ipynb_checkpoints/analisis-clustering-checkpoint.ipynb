{
 "cells": [
  {
   "cell_type": "code",
   "execution_count": 19,
   "metadata": {},
   "outputs": [
    {
     "data": {
      "text/html": [
       "<ol>\n",
       "\t<li><ol class=list-inline>\n",
       "\t<li>'NbClust'</li>\n",
       "\t<li>'factoextra'</li>\n",
       "\t<li>'ggplot2'</li>\n",
       "\t<li>'cluster'</li>\n",
       "\t<li>'stats'</li>\n",
       "\t<li>'graphics'</li>\n",
       "\t<li>'grDevices'</li>\n",
       "\t<li>'utils'</li>\n",
       "\t<li>'datasets'</li>\n",
       "\t<li>'methods'</li>\n",
       "\t<li>'base'</li>\n",
       "</ol>\n",
       "</li>\n",
       "\t<li><ol class=list-inline>\n",
       "\t<li>'NbClust'</li>\n",
       "\t<li>'factoextra'</li>\n",
       "\t<li>'ggplot2'</li>\n",
       "\t<li>'cluster'</li>\n",
       "\t<li>'stats'</li>\n",
       "\t<li>'graphics'</li>\n",
       "\t<li>'grDevices'</li>\n",
       "\t<li>'utils'</li>\n",
       "\t<li>'datasets'</li>\n",
       "\t<li>'methods'</li>\n",
       "\t<li>'base'</li>\n",
       "</ol>\n",
       "</li>\n",
       "\t<li><ol class=list-inline>\n",
       "\t<li>'NbClust'</li>\n",
       "\t<li>'factoextra'</li>\n",
       "\t<li>'ggplot2'</li>\n",
       "\t<li>'cluster'</li>\n",
       "\t<li>'stats'</li>\n",
       "\t<li>'graphics'</li>\n",
       "\t<li>'grDevices'</li>\n",
       "\t<li>'utils'</li>\n",
       "\t<li>'datasets'</li>\n",
       "\t<li>'methods'</li>\n",
       "\t<li>'base'</li>\n",
       "</ol>\n",
       "</li>\n",
       "</ol>\n"
      ],
      "text/latex": [
       "\\begin{enumerate}\n",
       "\\item \\begin{enumerate*}\n",
       "\\item 'NbClust'\n",
       "\\item 'factoextra'\n",
       "\\item 'ggplot2'\n",
       "\\item 'cluster'\n",
       "\\item 'stats'\n",
       "\\item 'graphics'\n",
       "\\item 'grDevices'\n",
       "\\item 'utils'\n",
       "\\item 'datasets'\n",
       "\\item 'methods'\n",
       "\\item 'base'\n",
       "\\end{enumerate*}\n",
       "\n",
       "\\item \\begin{enumerate*}\n",
       "\\item 'NbClust'\n",
       "\\item 'factoextra'\n",
       "\\item 'ggplot2'\n",
       "\\item 'cluster'\n",
       "\\item 'stats'\n",
       "\\item 'graphics'\n",
       "\\item 'grDevices'\n",
       "\\item 'utils'\n",
       "\\item 'datasets'\n",
       "\\item 'methods'\n",
       "\\item 'base'\n",
       "\\end{enumerate*}\n",
       "\n",
       "\\item \\begin{enumerate*}\n",
       "\\item 'NbClust'\n",
       "\\item 'factoextra'\n",
       "\\item 'ggplot2'\n",
       "\\item 'cluster'\n",
       "\\item 'stats'\n",
       "\\item 'graphics'\n",
       "\\item 'grDevices'\n",
       "\\item 'utils'\n",
       "\\item 'datasets'\n",
       "\\item 'methods'\n",
       "\\item 'base'\n",
       "\\end{enumerate*}\n",
       "\n",
       "\\end{enumerate}\n"
      ],
      "text/markdown": [
       "1. 1. 'NbClust'\n",
       "2. 'factoextra'\n",
       "3. 'ggplot2'\n",
       "4. 'cluster'\n",
       "5. 'stats'\n",
       "6. 'graphics'\n",
       "7. 'grDevices'\n",
       "8. 'utils'\n",
       "9. 'datasets'\n",
       "10. 'methods'\n",
       "11. 'base'\n",
       "\n",
       "\n",
       "\n",
       "2. 1. 'NbClust'\n",
       "2. 'factoextra'\n",
       "3. 'ggplot2'\n",
       "4. 'cluster'\n",
       "5. 'stats'\n",
       "6. 'graphics'\n",
       "7. 'grDevices'\n",
       "8. 'utils'\n",
       "9. 'datasets'\n",
       "10. 'methods'\n",
       "11. 'base'\n",
       "\n",
       "\n",
       "\n",
       "3. 1. 'NbClust'\n",
       "2. 'factoextra'\n",
       "3. 'ggplot2'\n",
       "4. 'cluster'\n",
       "5. 'stats'\n",
       "6. 'graphics'\n",
       "7. 'grDevices'\n",
       "8. 'utils'\n",
       "9. 'datasets'\n",
       "10. 'methods'\n",
       "11. 'base'\n",
       "\n",
       "\n",
       "\n",
       "\n",
       "\n"
      ],
      "text/plain": [
       "[[1]]\n",
       " [1] \"NbClust\"    \"factoextra\" \"ggplot2\"    \"cluster\"    \"stats\"     \n",
       " [6] \"graphics\"   \"grDevices\"  \"utils\"      \"datasets\"   \"methods\"   \n",
       "[11] \"base\"      \n",
       "\n",
       "[[2]]\n",
       " [1] \"NbClust\"    \"factoextra\" \"ggplot2\"    \"cluster\"    \"stats\"     \n",
       " [6] \"graphics\"   \"grDevices\"  \"utils\"      \"datasets\"   \"methods\"   \n",
       "[11] \"base\"      \n",
       "\n",
       "[[3]]\n",
       " [1] \"NbClust\"    \"factoextra\" \"ggplot2\"    \"cluster\"    \"stats\"     \n",
       " [6] \"graphics\"   \"grDevices\"  \"utils\"      \"datasets\"   \"methods\"   \n",
       "[11] \"base\"      \n"
      ]
     },
     "metadata": {},
     "output_type": "display_data"
    }
   ],
   "source": [
    "packages <- c(\"stats\", \"cluster\", \"factoextra\")\n",
    "lapply(packages, library, character.only = TRUE)"
   ]
  },
  {
   "cell_type": "code",
   "execution_count": 20,
   "metadata": {},
   "outputs": [
    {
     "data": {
      "text/html": [
       "<table>\n",
       "<thead><tr><th scope=col>Rank</th><th scope=col>NA_Sales</th><th scope=col>EU_Sales</th><th scope=col>JP_Sales</th><th scope=col>Other_Sales</th><th scope=col>Global_Sales</th></tr></thead>\n",
       "<tbody>\n",
       "\t<tr><td>-1.728305 </td><td>15.064589 </td><td>17.099855 </td><td>3.100903  </td><td>12.5170319</td><td>16.294261 </td></tr>\n",
       "\t<tr><td>-1.724848 </td><td>10.320939 </td><td> 1.429828 </td><td>6.029173  </td><td> 0.5735066</td><td> 7.466997 </td></tr>\n",
       "\t<tr><td>-1.721390 </td><td> 5.263849 </td><td> 7.158258 </td><td>3.120168  </td><td> 4.5184422</td><td> 6.548962 </td></tr>\n",
       "</tbody>\n",
       "</table>\n"
      ],
      "text/latex": [
       "\\begin{tabular}{r|llllll}\n",
       " Rank & NA\\_Sales & EU\\_Sales & JP\\_Sales & Other\\_Sales & Global\\_Sales\\\\\n",
       "\\hline\n",
       "\t -1.728305  & 15.064589  & 17.099855  & 3.100903   & 12.5170319 & 16.294261 \\\\\n",
       "\t -1.724848  & 10.320939  &  1.429828  & 6.029173   &  0.5735066 &  7.466997 \\\\\n",
       "\t -1.721390  &  5.263849  &  7.158258  & 3.120168   &  4.5184422 &  6.548962 \\\\\n",
       "\\end{tabular}\n"
      ],
      "text/markdown": [
       "\n",
       "| Rank | NA_Sales | EU_Sales | JP_Sales | Other_Sales | Global_Sales |\n",
       "|---|---|---|---|---|---|\n",
       "| -1.728305  | 15.064589  | 17.099855  | 3.100903   | 12.5170319 | 16.294261  |\n",
       "| -1.724848  | 10.320939  |  1.429828  | 6.029173   |  0.5735066 |  7.466997  |\n",
       "| -1.721390  |  5.263849  |  7.158258  | 3.120168   |  4.5184422 |  6.548962  |\n",
       "\n"
      ],
      "text/plain": [
       "  Rank      NA_Sales  EU_Sales  JP_Sales Other_Sales Global_Sales\n",
       "1 -1.728305 15.064589 17.099855 3.100903 12.5170319  16.294261   \n",
       "2 -1.724848 10.320939  1.429828 6.029173  0.5735066   7.466997   \n",
       "3 -1.721390  5.263849  7.158258 3.120168  4.5184422   6.548962   "
      ]
     },
     "metadata": {},
     "output_type": "display_data"
    }
   ],
   "source": [
    "sales <- read.csv(\"VGSales.csv\")\n",
    "sales$Name <- NULL\n",
    "sales$Publisher<- NULL\n",
    "sales$Platform<- NULL\n",
    "sales$Year<- NULL\n",
    "sales$Genre<- NULL\n",
    "sales <- sales[1:1000,]\n",
    "df <- scale(sales) # Scaling the data\n",
    "# View the firt 3 rows of the data\n",
    "head(df, n = 3)"
   ]
  },
  {
   "cell_type": "code",
   "execution_count": 21,
   "metadata": {},
   "outputs": [
    {
     "data": {
      "text/plain": [
       "K-means clustering with 3 clusters of sizes 335, 333, 332\n",
       "\n",
       "Cluster means:\n",
       "     Rank NA_Sales  EU_Sales  JP_Sales Other_Sales Global_Sales\n",
       "1 834.000 1.029701 0.5458806 0.2841493   0.1741194     2.033851\n",
       "2 499.036 1.445916 0.8733634 0.3402402   0.2887387     2.948258\n",
       "3 166.500 3.773042 2.3644578 1.0309940   0.7417470     7.909849\n",
       "\n",
       "Clustering vector:\n",
       "   1    2    3    4    5    6    7    8    9   10   11   12   13   14   15   16 \n",
       "   3    3    3    3    3    3    3    3    3    3    3    3    3    3    3    3 \n",
       "  17   18   19   20   21   22   23   24   25   26   27   28   29   30   31   32 \n",
       "   3    3    3    3    3    3    3    3    3    3    3    3    3    3    3    3 \n",
       "  33   34   35   36   37   38   39   40   41   42   43   44   45   46   47   48 \n",
       "   3    3    3    3    3    3    3    3    3    3    3    3    3    3    3    3 \n",
       "  49   50   51   52   53   54   55   56   57   58   59   60   61   62   63   64 \n",
       "   3    3    3    3    3    3    3    3    3    3    3    3    3    3    3    3 \n",
       "  65   66   67   68   69   70   71   72   73   74   75   76   77   78   79   80 \n",
       "   3    3    3    3    3    3    3    3    3    3    3    3    3    3    3    3 \n",
       "  81   82   83   84   85   86   87   88   89   90   91   92   93   94   95   96 \n",
       "   3    3    3    3    3    3    3    3    3    3    3    3    3    3    3    3 \n",
       "  97   98   99  100  101  102  103  104  105  106  107  108  109  110  111  112 \n",
       "   3    3    3    3    3    3    3    3    3    3    3    3    3    3    3    3 \n",
       " 113  114  115  116  117  118  119  120  121  122  123  124  125  126  127  128 \n",
       "   3    3    3    3    3    3    3    3    3    3    3    3    3    3    3    3 \n",
       " 129  130  131  132  133  134  135  136  137  138  139  140  141  142  143  144 \n",
       "   3    3    3    3    3    3    3    3    3    3    3    3    3    3    3    3 \n",
       " 145  146  147  148  149  150  151  152  153  154  155  156  157  158  159  160 \n",
       "   3    3    3    3    3    3    3    3    3    3    3    3    3    3    3    3 \n",
       " 161  162  163  164  165  166  167  168  169  170  171  172  173  174  175  176 \n",
       "   3    3    3    3    3    3    3    3    3    3    3    3    3    3    3    3 \n",
       " 177  178  179  180  181  182  183  184  185  186  187  188  189  190  191  192 \n",
       "   3    3    3    3    3    3    3    3    3    3    3    3    3    3    3    3 \n",
       " 193  194  195  196  197  198  199  200  201  202  203  204  205  206  207  208 \n",
       "   3    3    3    3    3    3    3    3    3    3    3    3    3    3    3    3 \n",
       " 209  210  211  212  213  214  215  216  217  218  219  220  221  222  223  224 \n",
       "   3    3    3    3    3    3    3    3    3    3    3    3    3    3    3    3 \n",
       " 225  226  227  228  229  230  231  232  233  234  235  236  237  238  239  240 \n",
       "   3    3    3    3    3    3    3    3    3    3    3    3    3    3    3    3 \n",
       " 241  242  243  244  245  246  247  248  249  250  251  252  253  254  255  256 \n",
       "   3    3    3    3    3    3    3    3    3    3    3    3    3    3    3    3 \n",
       " 257  258  259  260  261  262  263  264  265  266  267  268  269  270  271  272 \n",
       "   3    3    3    3    3    3    3    3    3    3    3    3    3    3    3    3 \n",
       " 273  274  275  276  277  278  279  280  281  282  283  284  285  286  287  288 \n",
       "   3    3    3    3    3    3    3    3    3    3    3    3    3    3    3    3 \n",
       " 289  290  291  292  293  294  295  296  297  298  299  300  301  302  303  304 \n",
       "   3    3    3    3    3    3    3    3    3    3    3    3    3    3    3    3 \n",
       " 305  306  307  308  309  310  311  312  313  314  315  316  317  318  319  320 \n",
       "   3    3    3    3    3    3    3    3    3    3    3    3    3    3    3    3 \n",
       " 321  322  323  324  325  326  327  328  329  330  331  332  333  334  335  336 \n",
       "   3    3    3    3    3    3    3    3    3    3    3    3    2    2    2    2 \n",
       " 337  338  339  340  341  342  343  344  345  346  347  348  349  350  351  352 \n",
       "   2    2    2    2    2    2    2    2    2    2    2    2    2    2    2    2 \n",
       " 353  354  355  356  357  358  359  360  361  362  363  364  365  366  367  368 \n",
       "   2    2    2    2    2    2    2    2    2    2    2    2    2    2    2    2 \n",
       " 369  370  371  372  373  374  375  376  377  378  379  380  381  382  383  384 \n",
       "   2    2    2    2    2    2    2    2    2    2    2    2    2    2    2    2 \n",
       " 385  386  387  388  389  390  391  392  393  394  395  396  397  398  399  400 \n",
       "   2    2    2    2    2    2    2    2    2    2    2    2    2    2    2    2 \n",
       " 401  402  403  404  405  406  407  408  409  410  411  412  413  414  415  416 \n",
       "   2    2    2    2    2    2    2    2    2    2    2    2    2    2    2    2 \n",
       " 417  418  419  420  421  422  423  424  425  426  427  428  429  430  431  432 \n",
       "   2    2    2    2    2    2    2    2    2    2    2    2    2    2    2    2 \n",
       " 433  434  435  436  437  438  439  440  441  442  443  444  445  446  447  448 \n",
       "   2    2    2    2    2    2    2    2    2    2    2    2    2    2    2    2 \n",
       " 449  450  451  452  453  454  455  456  457  458  459  460  461  462  463  464 \n",
       "   2    2    2    2    2    2    2    2    2    2    2    2    2    2    2    2 \n",
       " 465  466  467  468  469  470  471  472  473  474  475  476  477  478  479  480 \n",
       "   2    2    2    2    2    2    2    2    2    2    2    2    2    2    2    2 \n",
       " 481  482  483  484  485  486  487  488  489  490  491  492  493  494  495  496 \n",
       "   2    2    2    2    2    2    2    2    2    2    2    2    2    2    2    2 \n",
       " 497  498  499  500  501  502  503  504  505  506  507  508  509  510  511  512 \n",
       "   2    2    2    2    2    2    2    2    2    2    2    2    2    2    2    2 \n",
       " 513  514  515  516  517  518  519  520  521  522  523  524  525  526  527  528 \n",
       "   2    2    2    2    2    2    2    2    2    2    2    2    2    2    2    2 \n",
       " 529  530  531  532  533  534  535  536  537  538  539  540  541  542  543  544 \n",
       "   2    2    2    2    2    2    2    2    2    2    2    2    2    2    2    2 \n",
       " 545  546  547  548  549  550  551  552  553  554  555  556  557  558  559  560 \n",
       "   2    2    2    2    2    2    2    2    2    2    2    2    2    2    2    2 \n",
       " 561  562  563  564  565  566  567  568  569  570  571  572  573  574  575  576 \n",
       "   2    2    2    2    2    2    2    2    2    2    2    2    2    2    2    2 \n",
       " 577  578  579  580  581  582  583  584  585  586  587  588  589  590  591  592 \n",
       "   2    2    2    2    2    2    2    2    2    2    2    2    2    2    2    2 \n",
       " 593  594  595  596  597  598  599  600  601  602  603  604  605  606  607  608 \n",
       "   2    2    2    2    2    2    2    2    2    2    2    2    2    2    2    2 \n",
       " 609  610  611  612  613  614  615  616  617  618  619  620  621  622  623  624 \n",
       "   2    2    2    2    2    2    2    2    2    2    2    2    2    2    2    2 \n",
       " 625  626  627  628  629  630  631  632  633  634  635  636  637  638  639  640 \n",
       "   2    2    2    2    2    2    2    2    2    2    2    2    2    2    2    2 \n",
       " 641  642  643  644  645  646  647  648  649  650  651  652  653  654  655  656 \n",
       "   2    2    2    2    2    2    2    2    2    2    2    2    2    2    2    2 \n",
       " 657  658  659  660  661  662  663  664  665  666  667  668  669  670  671  672 \n",
       "   2    2    2    2    2    2    2    2    2    1    1    1    1    1    1    1 \n",
       " 673  674  675  676  677  678  679  680  681  682  683  684  685  686  687  688 \n",
       "   1    1    1    1    1    1    1    1    1    1    1    1    1    1    1    1 \n",
       " 689  690  691  692  693  694  695  696  697  698  699  700  701  702  703  704 \n",
       "   1    1    1    1    1    1    1    1    1    1    1    1    1    1    1    1 \n",
       " 705  706  707  708  709  710  711  712  713  714  715  716  717  718  719  720 \n",
       "   1    1    1    1    1    1    1    1    1    1    1    1    1    1    1    1 \n",
       " 721  722  723  724  725  726  727  728  729  730  731  732  733  734  735  736 \n",
       "   1    1    1    1    1    1    1    1    1    1    1    1    1    1    1    1 \n",
       " 737  738  739  740  741  742  743  744  745  746  747  748  749  750  751  752 \n",
       "   1    1    1    1    1    1    1    1    1    1    1    1    1    1    1    1 \n",
       " 753  754  755  756  757  758  759  760  761  762  763  764  765  766  767  768 \n",
       "   1    1    1    1    1    1    1    1    1    1    1    1    1    1    1    1 \n",
       " 769  770  771  772  773  774  775  776  777  778  779  780  781  782  783  784 \n",
       "   1    1    1    1    1    1    1    1    1    1    1    1    1    1    1    1 \n",
       " 785  786  787  788  789  790  791  792  793  794  795  796  797  798  799  800 \n",
       "   1    1    1    1    1    1    1    1    1    1    1    1    1    1    1    1 \n",
       " 801  802  803  804  805  806  807  808  809  810  811  812  813  814  815  816 \n",
       "   1    1    1    1    1    1    1    1    1    1    1    1    1    1    1    1 \n",
       " 817  818  819  820  821  822  823  824  825  826  827  828  829  830  831  832 \n",
       "   1    1    1    1    1    1    1    1    1    1    1    1    1    1    1    1 \n",
       " 833  834  835  836  837  838  839  840  841  842  843  844  845  846  847  848 \n",
       "   1    1    1    1    1    1    1    1    1    1    1    1    1    1    1    1 \n",
       " 849  850  851  852  853  854  855  856  857  858  859  860  861  862  863  864 \n",
       "   1    1    1    1    1    1    1    1    1    1    1    1    1    1    1    1 \n",
       " 865  866  867  868  869  870  871  872  873  874  875  876  877  878  879  880 \n",
       "   1    1    1    1    1    1    1    1    1    1    1    1    1    1    1    1 \n",
       " 881  882  883  884  885  886  887  888  889  890  891  892  893  894  895  896 \n",
       "   1    1    1    1    1    1    1    1    1    1    1    1    1    1    1    1 \n",
       " 897  898  899  900  901  902  903  904  905  906  907  908  909  910  911  912 \n",
       "   1    1    1    1    1    1    1    1    1    1    1    1    1    1    1    1 \n",
       " 913  914  915  916  917  918  919  920  921  922  923  924  925  926  927  928 \n",
       "   1    1    1    1    1    1    1    1    1    1    1    1    1    1    1    1 \n",
       " 929  930  931  932  933  934  935  936  937  938  939  940  941  942  943  944 \n",
       "   1    1    1    1    1    1    1    1    1    1    1    1    1    1    1    1 \n",
       " 945  946  947  948  949  950  951  952  953  954  955  956  957  958  959  960 \n",
       "   1    1    1    1    1    1    1    1    1    1    1    1    1    1    1    1 \n",
       " 961  962  963  964  965  966  967  968  969  970  971  972  973  974  975  976 \n",
       "   1    1    1    1    1    1    1    1    1    1    1    1    1    1    1    1 \n",
       " 977  978  979  980  981  982  983  984  985  986  987  988  989  990  991  992 \n",
       "   1    1    1    1    1    1    1    1    1    1    1    1    1    1    1    1 \n",
       " 993  994  995  996  997  998  999 1000 \n",
       "   1    1    1    1    1    1    1    1 \n",
       "\n",
       "Within cluster sum of squares by cluster:\n",
       "[1] 3133127 3081444 3074065\n",
       " (between_SS / total_SS =  88.9 %)\n",
       "\n",
       "Available components:\n",
       "\n",
       "[1] \"cluster\"      \"centers\"      \"totss\"        \"withinss\"     \"tot.withinss\"\n",
       "[6] \"betweenss\"    \"size\"         \"iter\"         \"ifault\"      "
      ]
     },
     "metadata": {},
     "output_type": "display_data"
    }
   ],
   "source": [
    "kmeans(sales, 3, iter.max = 10, nstart = 1)"
   ]
  },
  {
   "cell_type": "code",
   "execution_count": 22,
   "metadata": {},
   "outputs": [
    {
     "data": {
      "text/html": [
       "<table>\n",
       "<thead><tr><th scope=col>Rank</th><th scope=col>NA_Sales</th><th scope=col>EU_Sales</th><th scope=col>JP_Sales</th><th scope=col>Other_Sales</th><th scope=col>Global_Sales</th></tr></thead>\n",
       "<tbody>\n",
       "\t<tr><td>-1.728305 </td><td>15.064589 </td><td>17.0998547</td><td>3.100903  </td><td>12.5170319</td><td>16.294261 </td></tr>\n",
       "\t<tr><td>-1.724848 </td><td>10.320939 </td><td> 1.4298283</td><td>6.029173  </td><td> 0.5735066</td><td> 7.466997 </td></tr>\n",
       "\t<tr><td>-1.721390 </td><td> 5.263849 </td><td> 7.1582578</td><td>3.120168  </td><td> 4.5184422</td><td> 6.548962 </td></tr>\n",
       "\t<tr><td>-1.717932 </td><td> 5.225625 </td><td> 6.0064123</td><td>2.628912  </td><td> 3.9748487</td><td> 5.963247 </td></tr>\n",
       "\t<tr><td>-1.714475 </td><td> 3.513171 </td><td> 4.7005767</td><td>9.313844  </td><td> 0.9307252</td><td> 5.624695 </td></tr>\n",
       "\t<tr><td>-1.711017 </td><td> 8.073344 </td><td> 0.6167609</td><td>3.534364  </td><td> 0.2784130</td><td> 5.394148 </td></tr>\n",
       "</tbody>\n",
       "</table>\n"
      ],
      "text/latex": [
       "\\begin{tabular}{r|llllll}\n",
       " Rank & NA\\_Sales & EU\\_Sales & JP\\_Sales & Other\\_Sales & Global\\_Sales\\\\\n",
       "\\hline\n",
       "\t -1.728305  & 15.064589  & 17.0998547 & 3.100903   & 12.5170319 & 16.294261 \\\\\n",
       "\t -1.724848  & 10.320939  &  1.4298283 & 6.029173   &  0.5735066 &  7.466997 \\\\\n",
       "\t -1.721390  &  5.263849  &  7.1582578 & 3.120168   &  4.5184422 &  6.548962 \\\\\n",
       "\t -1.717932  &  5.225625  &  6.0064123 & 2.628912   &  3.9748487 &  5.963247 \\\\\n",
       "\t -1.714475  &  3.513171  &  4.7005767 & 9.313844   &  0.9307252 &  5.624695 \\\\\n",
       "\t -1.711017  &  8.073344  &  0.6167609 & 3.534364   &  0.2784130 &  5.394148 \\\\\n",
       "\\end{tabular}\n"
      ],
      "text/markdown": [
       "\n",
       "| Rank | NA_Sales | EU_Sales | JP_Sales | Other_Sales | Global_Sales |\n",
       "|---|---|---|---|---|---|\n",
       "| -1.728305  | 15.064589  | 17.0998547 | 3.100903   | 12.5170319 | 16.294261  |\n",
       "| -1.724848  | 10.320939  |  1.4298283 | 6.029173   |  0.5735066 |  7.466997  |\n",
       "| -1.721390  |  5.263849  |  7.1582578 | 3.120168   |  4.5184422 |  6.548962  |\n",
       "| -1.717932  |  5.225625  |  6.0064123 | 2.628912   |  3.9748487 |  5.963247  |\n",
       "| -1.714475  |  3.513171  |  4.7005767 | 9.313844   |  0.9307252 |  5.624695  |\n",
       "| -1.711017  |  8.073344  |  0.6167609 | 3.534364   |  0.2784130 |  5.394148  |\n",
       "\n"
      ],
      "text/plain": [
       "  Rank      NA_Sales  EU_Sales   JP_Sales Other_Sales Global_Sales\n",
       "1 -1.728305 15.064589 17.0998547 3.100903 12.5170319  16.294261   \n",
       "2 -1.724848 10.320939  1.4298283 6.029173  0.5735066   7.466997   \n",
       "3 -1.721390  5.263849  7.1582578 3.120168  4.5184422   6.548962   \n",
       "4 -1.717932  5.225625  6.0064123 2.628912  3.9748487   5.963247   \n",
       "5 -1.714475  3.513171  4.7005767 9.313844  0.9307252   5.624695   \n",
       "6 -1.711017  8.073344  0.6167609 3.534364  0.2784130   5.394148   "
      ]
     },
     "metadata": {},
     "output_type": "display_data"
    }
   ],
   "source": [
    "# Standardize the data\n",
    "sales <- scale(sales) \n",
    "head(df)"
   ]
  },
  {
   "cell_type": "code",
   "execution_count": 23,
   "metadata": {},
   "outputs": [
    {
     "data": {
      "image/png": "[encoded data removed]",
      "text/plain": [
       "plot without title"
      ]
     },
     "metadata": {},
     "output_type": "display_data"
    }
   ],
   "source": [
    "# Elbow method\n",
    "fviz_nbclust(sales, kmeans, method = \"wss\") + geom_vline(xintercept = 4, linetype = 2) + labs(subtitle = \"Elbow method\")"
   ]
  },
  {
   "cell_type": "code",
   "execution_count": 24,
   "metadata": {},
   "outputs": [
    {
     "data": {
      "image/png": "[encoded data removed]",
      "text/plain": [
       "plot without title"
      ]
     },
     "metadata": {},
     "output_type": "display_data"
    }
   ],
   "source": [
    "# Silhouette method\n",
    "fviz_nbclust(sales, kmeans, method = \"silhouette\") + labs(subtitle = \"Silhouette method\")"
   ]
  },
  {
   "cell_type": "code",
   "execution_count": 25,
   "metadata": {},
   "outputs": [
    {
     "name": "stderr",
     "output_type": "stream",
     "text": [
      "Warning message in pf(beale, pp, df2):\n",
      "\"NaNs produced\""
     ]
    },
    {
     "name": "stdout",
     "output_type": "stream",
     "text": [
      "*** : The Hubert index is a graphical method of determining the number of clusters.\n",
      "                In the plot of Hubert index, we seek a significant knee that corresponds to a \n",
      "                significant increase of the value of the measure i.e the significant peak in Hubert\n",
      "                index second differences plot. \n",
      " \n"
     ]
    },
    {
     "data": {
      "image/png": "[encoded data removed]",
      "text/plain": [
       "plot without title"
      ]
     },
     "metadata": {},
     "output_type": "display_data"
    },
    {
     "name": "stdout",
     "output_type": "stream",
     "text": [
      "*** : The D index is a graphical method of determining the number of clusters. \n",
      "                In the plot of D index, we seek a significant knee (the significant peak in Dindex\n",
      "                second differences plot) that corresponds to a significant increase of the value of\n",
      "                the measure. \n",
      " \n",
      "******************************************************************* \n",
      "* Among all indices:                                                \n",
      "* 10 proposed 2 as the best number of clusters \n",
      "* 6 proposed 3 as the best number of clusters \n",
      "* 2 proposed 4 as the best number of clusters \n",
      "* 3 proposed 9 as the best number of clusters \n",
      "* 3 proposed 10 as the best number of clusters \n",
      "\n",
      "                   ***** Conclusion *****                            \n",
      " \n",
      "* According to the majority rule, the best number of clusters is  2 \n",
      " \n",
      " \n",
      "******************************************************************* \n"
     ]
    },
    {
     "data": {
      "image/png": "[encoded data removed]",
      "text/plain": [
       "plot without title"
      ]
     },
     "metadata": {},
     "output_type": "display_data"
    }
   ],
   "source": [
    "library(\"NbClust\")\n",
    "nb <- NbClust(sales, distance = \"euclidean\", min.nc = 2, max.nc = 10, method = \"kmeans\")"
   ]
  },
  {
   "cell_type": "code",
   "execution_count": 26,
   "metadata": {},
   "outputs": [
    {
     "name": "stdout",
     "output_type": "stream",
     "text": [
      "Among all indices: \n",
      "===================\n",
      "* 2 proposed  0 as the best number of clusters\n",
      "* 10 proposed  2 as the best number of clusters\n",
      "* 6 proposed  3 as the best number of clusters\n",
      "* 2 proposed  4 as the best number of clusters\n",
      "* 3 proposed  9 as the best number of clusters\n",
      "* 3 proposed  10 as the best number of clusters\n",
      "\n",
      "Conclusion\n",
      "=========================\n",
      "* According to the majority rule, the best number of clusters is  2 .\n",
      "\n"
     ]
    },
    {
     "data": {
      "image/png": "[encoded data removed]",
      "text/plain": [
       "plot without title"
      ]
     },
     "metadata": {},
     "output_type": "display_data"
    }
   ],
   "source": [
    "library(\"factoextra\") \n",
    "fviz_nbclust(nb)"
   ]
  },
  {
   "cell_type": "code",
   "execution_count": null,
   "metadata": {},
   "outputs": [],
   "source": []
  }
 ],
 "metadata": {
  "kernelspec": {
   "display_name": "R",
   "language": "R",
   "name": "ir"
  },
  "language_info": {
   "codemirror_mode": "r",
   "file_extension": ".r",
   "mimetype": "text/x-r-source",
   "name": "R",
   "pygments_lexer": "r",
   "version": "3.6.1"
  }
 },
 "nbformat": 4,
 "nbformat_minor": 4
}
