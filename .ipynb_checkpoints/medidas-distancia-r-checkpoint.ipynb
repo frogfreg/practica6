{
 "cells": [
  {
   "cell_type": "code",
   "execution_count": 15,
   "metadata": {},
   "outputs": [
    {
     "name": "stdout",
     "output_type": "stream",
     "text": [
      "'data.frame':\t16598 obs. of  6 variables:\n",
      " $ Rank        : int  1 2 3 4 5 6 7 8 9 10 ...\n",
      " $ NA_Sales    : num  41.5 29.1 15.8 15.8 11.3 ...\n",
      " $ EU_Sales    : num  29.02 3.58 12.88 11.01 8.89 ...\n",
      " $ JP_Sales    : num  3.77 6.81 3.79 3.28 10.22 ...\n",
      " $ Other_Sales : num  8.46 0.77 3.31 2.96 1 0.58 2.9 2.85 2.26 0.47 ...\n",
      " $ Global_Sales: num  82.7 40.2 35.8 33 31.4 ...\n"
     ]
    }
   ],
   "source": [
    "sales <- read.csv(\"VGSales.csv\")\n",
    "sales$Name <- NULL\n",
    "sales$Publisher<- NULL\n",
    "sales$Platform<- NULL\n",
    "sales$Year<- NULL\n",
    "sales$Genre<- NULL\n",
    "str(sales)\n"
   ]
  },
  {
   "cell_type": "code",
   "execution_count": 16,
   "metadata": {},
   "outputs": [],
   "source": [
    "sales <- na.omit(sales)"
   ]
  },
  {
   "cell_type": "code",
   "execution_count": 17,
   "metadata": {},
   "outputs": [],
   "source": [
    "sales <- scale(sales)"
   ]
  },
  {
   "cell_type": "code",
   "execution_count": 18,
   "metadata": {},
   "outputs": [
    {
     "data": {
      "text/html": [
       "<table>\n",
       "<thead><tr><th scope=col>Rank</th><th scope=col>NA_Sales</th><th scope=col>EU_Sales</th><th scope=col>JP_Sales</th><th scope=col>Other_Sales</th><th scope=col>Global_Sales</th></tr></thead>\n",
       "<tbody>\n",
       "\t<tr><td>-1.732024</td><td>50.47899 </td><td>57.135209</td><td>11.93770 </td><td>44.604742</td><td>52.86243 </td></tr>\n",
       "\t<tr><td>-1.731815</td><td>35.28337 </td><td> 6.793984</td><td>21.76664 </td><td> 3.828109</td><td>25.53173 </td></tr>\n",
       "\t<tr><td>-1.731606</td><td>19.08370 </td><td>25.197026</td><td>12.00236 </td><td>17.296594</td><td>22.68934 </td></tr>\n",
       "</tbody>\n",
       "</table>\n"
      ],
      "text/latex": [
       "\\begin{tabular}{r|llllll}\n",
       " Rank & NA\\_Sales & EU\\_Sales & JP\\_Sales & Other\\_Sales & Global\\_Sales\\\\\n",
       "\\hline\n",
       "\t -1.732024 & 50.47899  & 57.135209 & 11.93770  & 44.604742 & 52.86243 \\\\\n",
       "\t -1.731815 & 35.28337  &  6.793984 & 21.76664  &  3.828109 & 25.53173 \\\\\n",
       "\t -1.731606 & 19.08370  & 25.197026 & 12.00236  & 17.296594 & 22.68934 \\\\\n",
       "\\end{tabular}\n"
      ],
      "text/markdown": [
       "\n",
       "| Rank | NA_Sales | EU_Sales | JP_Sales | Other_Sales | Global_Sales |\n",
       "|---|---|---|---|---|---|\n",
       "| -1.732024 | 50.47899  | 57.135209 | 11.93770  | 44.604742 | 52.86243  |\n",
       "| -1.731815 | 35.28337  |  6.793984 | 21.76664  |  3.828109 | 25.53173  |\n",
       "| -1.731606 | 19.08370  | 25.197026 | 12.00236  | 17.296594 | 22.68934  |\n",
       "\n"
      ],
      "text/plain": [
       "  Rank      NA_Sales EU_Sales  JP_Sales Other_Sales Global_Sales\n",
       "1 -1.732024 50.47899 57.135209 11.93770 44.604742   52.86243    \n",
       "2 -1.731815 35.28337  6.793984 21.76664  3.828109   25.53173    \n",
       "3 -1.731606 19.08370 25.197026 12.00236 17.296594   22.68934    "
      ]
     },
     "metadata": {},
     "output_type": "display_data"
    }
   ],
   "source": [
    "head(sales, n = 3)\n"
   ]
  },
  {
   "cell_type": "code",
   "execution_count": 19,
   "metadata": {
    "scrolled": true
   },
   "outputs": [],
   "source": [
    "set.seed(100) #proponemos una semilla para que sea reproducible el experimento\n",
    "ss <- sample(1:16598, 30) #tomamos 15 observaciones \n",
    "sales <- sales[ss, ]  #creamos el subcojunto\n",
    "sales.scaled <- scale(sales) #estandarizamos los valores de las caracterícticas"
   ]
  },
  {
   "cell_type": "code",
   "execution_count": 20,
   "metadata": {},
   "outputs": [],
   "source": [
    "# Otros métodos pueden ser: “euclidean”, “maximum”, “manhattan”, “canberra”, “binary”, “minkowski”.\n",
    "dist.eucl <- dist(sales.scaled, method = \"euclidean\")\n"
   ]
  },
  {
   "cell_type": "code",
   "execution_count": 21,
   "metadata": {},
   "outputs": [
    {
     "data": {
      "text/html": [
       "<table>\n",
       "<thead><tr><th></th><th scope=col>3430</th><th scope=col>3696</th><th scope=col>3052</th><th scope=col>11159</th><th scope=col>8192</th></tr></thead>\n",
       "<tbody>\n",
       "\t<tr><th scope=row>3430</th><td>0.0</td><td>6.3</td><td>2.6</td><td>4.2</td><td>4.2</td></tr>\n",
       "\t<tr><th scope=row>3696</th><td>6.3</td><td>0.0</td><td>6.8</td><td>5.4</td><td>5.1</td></tr>\n",
       "\t<tr><th scope=row>3052</th><td>2.6</td><td>6.8</td><td>0.0</td><td>4.8</td><td>5.0</td></tr>\n",
       "\t<tr><th scope=row>11159</th><td>4.2</td><td>5.4</td><td>4.8</td><td>0.0</td><td>1.6</td></tr>\n",
       "\t<tr><th scope=row>8192</th><td>4.2</td><td>5.1</td><td>5.0</td><td>1.6</td><td>0.0</td></tr>\n",
       "</tbody>\n",
       "</table>\n"
      ],
      "text/latex": [
       "\\begin{tabular}{r|lllll}\n",
       "  & 3430 & 3696 & 3052 & 11159 & 8192\\\\\n",
       "\\hline\n",
       "\t3430 & 0.0 & 6.3 & 2.6 & 4.2 & 4.2\\\\\n",
       "\t3696 & 6.3 & 0.0 & 6.8 & 5.4 & 5.1\\\\\n",
       "\t3052 & 2.6 & 6.8 & 0.0 & 4.8 & 5.0\\\\\n",
       "\t11159 & 4.2 & 5.4 & 4.8 & 0.0 & 1.6\\\\\n",
       "\t8192 & 4.2 & 5.1 & 5.0 & 1.6 & 0.0\\\\\n",
       "\\end{tabular}\n"
      ],
      "text/markdown": [
       "\n",
       "| <!--/--> | 3430 | 3696 | 3052 | 11159 | 8192 |\n",
       "|---|---|---|---|---|---|\n",
       "| 3430 | 0.0 | 6.3 | 2.6 | 4.2 | 4.2 |\n",
       "| 3696 | 6.3 | 0.0 | 6.8 | 5.4 | 5.1 |\n",
       "| 3052 | 2.6 | 6.8 | 0.0 | 4.8 | 5.0 |\n",
       "| 11159 | 4.2 | 5.4 | 4.8 | 0.0 | 1.6 |\n",
       "| 8192 | 4.2 | 5.1 | 5.0 | 1.6 | 0.0 |\n",
       "\n"
      ],
      "text/plain": [
       "      3430 3696 3052 11159 8192\n",
       "3430  0.0  6.3  2.6  4.2   4.2 \n",
       "3696  6.3  0.0  6.8  5.4   5.1 \n",
       "3052  2.6  6.8  0.0  4.8   5.0 \n",
       "11159 4.2  5.4  4.8  0.0   1.6 \n",
       "8192  4.2  5.1  5.0  1.6   0.0 "
      ]
     },
     "metadata": {},
     "output_type": "display_data"
    }
   ],
   "source": [
    "# Subconjunto de las 3 primeras características y observaciones, y valores redondeados\n",
    "round(as.matrix(dist.eucl)[1:5, 1:5], 1)"
   ]
  },
  {
   "cell_type": "code",
   "execution_count": 22,
   "metadata": {},
   "outputs": [
    {
     "data": {
      "text/html": [
       "<table>\n",
       "<thead><tr><th scope=col>Rank</th><th scope=col>Name</th><th scope=col>Platform</th><th scope=col>Year</th><th scope=col>Genre</th><th scope=col>Publisher</th><th scope=col>NA_Sales</th><th scope=col>EU_Sales</th><th scope=col>JP_Sales</th><th scope=col>Other_Sales</th><th scope=col>Global_Sales</th></tr></thead>\n",
       "<tbody>\n",
       "\t<tr><td>1                </td><td>Wii Sports       </td><td>Wii              </td><td>2006             </td><td>Sports           </td><td>Nintendo         </td><td>41.49            </td><td>29.02            </td><td>3.77             </td><td>8.46             </td><td>82.74            </td></tr>\n",
       "\t<tr><td>2                </td><td>Super Mario Bros.</td><td>NES              </td><td>1985             </td><td>Platform         </td><td>Nintendo         </td><td>29.08            </td><td> 3.58            </td><td>6.81             </td><td>0.77             </td><td>40.24            </td></tr>\n",
       "\t<tr><td>3                </td><td>Mario Kart Wii   </td><td>Wii              </td><td>2008             </td><td>Racing           </td><td>Nintendo         </td><td>15.85            </td><td>12.88            </td><td>3.79             </td><td>3.31             </td><td>35.82            </td></tr>\n",
       "</tbody>\n",
       "</table>\n"
      ],
      "text/latex": [
       "\\begin{tabular}{r|lllllllllll}\n",
       " Rank & Name & Platform & Year & Genre & Publisher & NA\\_Sales & EU\\_Sales & JP\\_Sales & Other\\_Sales & Global\\_Sales\\\\\n",
       "\\hline\n",
       "\t 1                 & Wii Sports        & Wii               & 2006              & Sports            & Nintendo          & 41.49             & 29.02             & 3.77              & 8.46              & 82.74            \\\\\n",
       "\t 2                 & Super Mario Bros. & NES               & 1985              & Platform          & Nintendo          & 29.08             &  3.58             & 6.81              & 0.77              & 40.24            \\\\\n",
       "\t 3                 & Mario Kart Wii    & Wii               & 2008              & Racing            & Nintendo          & 15.85             & 12.88             & 3.79              & 3.31              & 35.82            \\\\\n",
       "\\end{tabular}\n"
      ],
      "text/markdown": [
       "\n",
       "| Rank | Name | Platform | Year | Genre | Publisher | NA_Sales | EU_Sales | JP_Sales | Other_Sales | Global_Sales |\n",
       "|---|---|---|---|---|---|---|---|---|---|---|\n",
       "| 1                 | Wii Sports        | Wii               | 2006              | Sports            | Nintendo          | 41.49             | 29.02             | 3.77              | 8.46              | 82.74             |\n",
       "| 2                 | Super Mario Bros. | NES               | 1985              | Platform          | Nintendo          | 29.08             |  3.58             | 6.81              | 0.77              | 40.24             |\n",
       "| 3                 | Mario Kart Wii    | Wii               | 2008              | Racing            | Nintendo          | 15.85             | 12.88             | 3.79              | 3.31              | 35.82             |\n",
       "\n"
      ],
      "text/plain": [
       "  Rank Name              Platform Year Genre    Publisher NA_Sales EU_Sales\n",
       "1 1    Wii Sports        Wii      2006 Sports   Nintendo  41.49    29.02   \n",
       "2 2    Super Mario Bros. NES      1985 Platform Nintendo  29.08     3.58   \n",
       "3 3    Mario Kart Wii    Wii      2008 Racing   Nintendo  15.85    12.88   \n",
       "  JP_Sales Other_Sales Global_Sales\n",
       "1 3.77     8.46        82.74       \n",
       "2 6.81     0.77        40.24       \n",
       "3 3.79     3.31        35.82       "
      ]
     },
     "metadata": {},
     "output_type": "display_data"
    }
   ],
   "source": [
    "library(cluster)\n",
    "sales <- read.csv(\"VGSales.csv\")\n",
    "head(sales, 3)"
   ]
  },
  {
   "cell_type": "code",
   "execution_count": 23,
   "metadata": {},
   "outputs": [
    {
     "name": "stdout",
     "output_type": "stream",
     "text": [
      "'data.frame':\t16598 obs. of  11 variables:\n",
      " $ Rank        : int  1 2 3 4 5 6 7 8 9 10 ...\n",
      " $ Name        : Factor w/ 11493 levels \"'98 Koshien\",..: 10991 9343 5532 10993 7370 9707 6648 10989 6651 2594 ...\n",
      " $ Platform    : Factor w/ 31 levels \"2600\",\"3DO\",\"3DS\",..: 26 12 26 26 6 6 5 26 26 12 ...\n",
      " $ Year        : Factor w/ 40 levels \"1980\",\"1981\",..: 27 6 29 30 17 10 27 27 30 5 ...\n",
      " $ Genre       : Factor w/ 12 levels \"Action\",\"Adventure\",..: 11 5 7 11 8 6 5 4 5 9 ...\n",
      " $ Publisher   : Factor w/ 579 levels \"10TACLE Studios\",..: 369 369 369 369 369 369 369 369 369 369 ...\n",
      " $ NA_Sales    : num  41.5 29.1 15.8 15.8 11.3 ...\n",
      " $ EU_Sales    : num  29.02 3.58 12.88 11.01 8.89 ...\n",
      " $ JP_Sales    : num  3.77 6.81 3.79 3.28 10.22 ...\n",
      " $ Other_Sales : num  8.46 0.77 3.31 2.96 1 0.58 2.9 2.85 2.26 0.47 ...\n",
      " $ Global_Sales: num  82.7 40.2 35.8 33 31.4 ...\n"
     ]
    }
   ],
   "source": [
    "str(sales)"
   ]
  },
  {
   "cell_type": "code",
   "execution_count": 24,
   "metadata": {},
   "outputs": [
    {
     "data": {
      "text/html": [
       "<table>\n",
       "<thead><tr><th scope=col>1</th><th scope=col>2</th><th scope=col>3</th></tr></thead>\n",
       "<tbody>\n",
       "\t<tr><td>0.00</td><td>0.61</td><td>0.48</td></tr>\n",
       "\t<tr><td>0.61</td><td>0.00</td><td>0.48</td></tr>\n",
       "\t<tr><td>0.48</td><td>0.48</td><td>0.00</td></tr>\n",
       "</tbody>\n",
       "</table>\n"
      ],
      "text/latex": [
       "\\begin{tabular}{r|lll}\n",
       " 1 & 2 & 3\\\\\n",
       "\\hline\n",
       "\t 0.00 & 0.61 & 0.48\\\\\n",
       "\t 0.61 & 0.00 & 0.48\\\\\n",
       "\t 0.48 & 0.48 & 0.00\\\\\n",
       "\\end{tabular}\n"
      ],
      "text/markdown": [
       "\n",
       "| 1 | 2 | 3 |\n",
       "|---|---|---|\n",
       "| 0.00 | 0.61 | 0.48 |\n",
       "| 0.61 | 0.00 | 0.48 |\n",
       "| 0.48 | 0.48 | 0.00 |\n",
       "\n"
      ],
      "text/plain": [
       "  1    2    3   \n",
       "1 0.00 0.61 0.48\n",
       "2 0.61 0.00 0.48\n",
       "3 0.48 0.48 0.00"
      ]
     },
     "metadata": {},
     "output_type": "display_data"
    }
   ],
   "source": [
    "dd <- daisy(sales) \n",
    "round(as.matrix(dd)[1:3, 1:3], 2)"
   ]
  },
  {
   "cell_type": "code",
   "execution_count": 26,
   "metadata": {},
   "outputs": [
    {
     "data": {
      "image/png": "[encoded data removed]",
      "text/plain": [
       "plot without title"
      ]
     },
     "metadata": {},
     "output_type": "display_data"
    }
   ],
   "source": [
    "#install.packages(\"factoextra\") si es que no esta instalada ya\n",
    "library(\"factoextra\") \n",
    "fviz_dist(dist.eucl)"
   ]
  },
  {
   "cell_type": "code",
   "execution_count": null,
   "metadata": {},
   "outputs": [],
   "source": []
  },
  {
   "cell_type": "code",
   "execution_count": null,
   "metadata": {},
   "outputs": [],
   "source": []
  },
  {
   "cell_type": "code",
   "execution_count": null,
   "metadata": {},
   "outputs": [],
   "source": []
  },
  {
   "cell_type": "code",
   "execution_count": null,
   "metadata": {},
   "outputs": [],
   "source": []
  },
  {
   "cell_type": "code",
   "execution_count": null,
   "metadata": {},
   "outputs": [],
   "source": []
  }
 ],
 "metadata": {
  "kernelspec": {
   "display_name": "R",
   "language": "R",
   "name": "ir"
  },
  "language_info": {
   "codemirror_mode": "r",
   "file_extension": ".r",
   "mimetype": "text/x-r-source",
   "name": "R",
   "pygments_lexer": "r",
   "version": "3.6.1"
  }
 },
 "nbformat": 4,
 "nbformat_minor": 4
}
